{
  "nbformat": 4,
  "nbformat_minor": 0,
  "metadata": {
    "colab": {
      "name": "Actividad Curso Aprendizaje Autónomo Uvigo.ipynb",
      "provenance": [],
      "collapsed_sections": []
    },
    "kernelspec": {
      "name": "python3",
      "display_name": "Python 3"
    },
    "language_info": {
      "name": "python"
    }
  },
  "cells": [
    {
      "cell_type": "code",
      "metadata": {
        "id": "yCtwfo6EC6FC"
      },
      "source": [
        "import tensorflow as tf\n",
        "import keras as keras\n",
        "import numpy as np\n",
        "import matplotlib.pyplot as plt"
      ],
      "execution_count": null,
      "outputs": []
    },
    {
      "cell_type": "code",
      "metadata": {
        "id": "XyupKk-i45qP"
      },
      "source": [
        "from keras.datasets import reuters\n",
        "from keras.preprocessing.text import Tokenizer\n",
        "from keras.utils import np_utils\n",
        "from tensorflow.keras import layers\n",
        "from tensorflow.keras import losses\n",
        "from tensorflow.keras import preprocessing\n",
        "from tensorflow.keras.layers.experimental.preprocessing import TextVectorization"
      ],
      "execution_count": null,
      "outputs": []
    },
    {
      "cell_type": "code",
      "metadata": {
        "id": "JfGV5X0Cl-aE"
      },
      "source": [
        "def plot_graphs(history, metric):\n",
        "  plt.plot(history.history[metric])\n",
        "  plt.plot(history.history['val_'+metric], '')\n",
        "  plt.xlabel(\"Epochs\")\n",
        "  plt.ylabel(metric)\n",
        "  plt.legend([metric, 'val_'+metric])"
      ],
      "execution_count": null,
      "outputs": []
    },
    {
      "cell_type": "code",
      "metadata": {
        "colab": {
          "base_uri": "https://localhost:8080/"
        },
        "id": "SXbIQNX-5h1B",
        "outputId": "d7c50707-c4b4-43dd-be29-dbfd68925b31"
      },
      "source": [
        "(x_train, y_train), (x_test, y_test) = reuters.load_data(num_words=None, test_split=0.2)"
      ],
      "execution_count": null,
      "outputs": [
        {
          "output_type": "stream",
          "text": [
            "/usr/local/lib/python3.7/dist-packages/keras/datasets/reuters.py:143: VisibleDeprecationWarning: Creating an ndarray from ragged nested sequences (which is a list-or-tuple of lists-or-tuples-or ndarrays with different lengths or shapes) is deprecated. If you meant to do this, you must specify 'dtype=object' when creating the ndarray\n",
            "  x_train, y_train = np.array(xs[:idx]), np.array(labels[:idx])\n",
            "/usr/local/lib/python3.7/dist-packages/keras/datasets/reuters.py:144: VisibleDeprecationWarning: Creating an ndarray from ragged nested sequences (which is a list-or-tuple of lists-or-tuples-or ndarrays with different lengths or shapes) is deprecated. If you meant to do this, you must specify 'dtype=object' when creating the ndarray\n",
            "  x_test, y_test = np.array(xs[idx:]), np.array(labels[idx:])\n"
          ],
          "name": "stderr"
        }
      ]
    },
    {
      "cell_type": "code",
      "metadata": {
        "colab": {
          "base_uri": "https://localhost:8080/",
          "height": 52
        },
        "id": "8DJ9rnvGDeFd",
        "outputId": "7cdadda7-e544-48ef-e219-5c7ca227e020"
      },
      "source": [
        "str(reuters)"
      ],
      "execution_count": null,
      "outputs": [
        {
          "output_type": "execute_result",
          "data": {
            "application/vnd.google.colaboratory.intrinsic+json": {
              "type": "string"
            },
            "text/plain": [
              "\"<module 'keras.datasets.reuters' from '/usr/local/lib/python3.7/dist-packages/keras/datasets/reuters.py'>\""
            ]
          },
          "metadata": {
            "tags": []
          },
          "execution_count": 39
        }
      ]
    },
    {
      "cell_type": "markdown",
      "metadata": {
        "id": "rwCdmaJ87T9N"
      },
      "source": [
        "**Posibilidad 1**. A partir de aquí, podemos recodificar los textos de `x_train` y `x_test` en forma de arrays binarios, en los que cada posición corresponde a una palabra del vocabulario contenido en `word_index`, y tendrá valor 1 si la palabra en cuestión aparece en el texto (0 en caso contrario):"
      ]
    },
    {
      "cell_type": "code",
      "metadata": {
        "id": "muu87tkyRSIM"
      },
      "source": [
        "max_words = 20000  # el vocabulario del dataset es 30979 palabras. Nos quedamos con las 20000\n",
        "                   # con mayor fecuencia"
      ],
      "execution_count": null,
      "outputs": []
    },
    {
      "cell_type": "code",
      "metadata": {
        "id": "KZOOH0Kq7LbQ"
      },
      "source": [
        "tokenizer = Tokenizer(num_words=max_words)\n",
        "x_train_1 = tokenizer.sequences_to_matrix(x_train, mode='binary')\n",
        "x_test_1 = tokenizer.sequences_to_matrix(x_test, mode='binary')"
      ],
      "execution_count": null,
      "outputs": []
    },
    {
      "cell_type": "markdown",
      "metadata": {
        "id": "7JwB4uR77x-v"
      },
      "source": [
        "**Posibilidad 2**. Otra alternativa es dejar `x_train` y `x_test` como están,para entrenar una capa `Embedding` a la entrada del modelo. Para ello, primero tendríamos que igualar las longitudes de las entradas, añadiendo ceros al final:"
      ]
    },
    {
      "cell_type": "code",
      "metadata": {
        "id": "8g9cTYCySTnl"
      },
      "source": [
        "max_sequence = 250 #damos la misma longitud a todas las entradas de x_train e x_test"
      ],
      "execution_count": null,
      "outputs": []
    },
    {
      "cell_type": "code",
      "metadata": {
        "id": "mo8mhXZQ76wZ"
      },
      "source": [
        "x_train_2 = tf.keras.preprocessing.sequence.pad_sequences(x_train, maxlen=max_sequence,\n",
        "                                                        padding='post', truncating='post')\n",
        "x_test_2 = tf.keras.preprocessing.sequence.pad_sequences(x_test, maxlen=max_sequence,\n",
        "                                                       padding='post',truncating='post')"
      ],
      "execution_count": null,
      "outputs": []
    },
    {
      "cell_type": "markdown",
      "metadata": {
        "id": "GZ-FjXvf-HXr"
      },
      "source": [
        "Con respecto a las etiquetas de los ejemplos de entrenamiento o test, podemos convertir `y_train` \n",
        "e `y_test` a vectores one-hot para poder usar `'categorical_crossentropy'` como función de error:"
      ]
    },
    {
      "cell_type": "code",
      "metadata": {
        "id": "Xlyg0U639RNE"
      },
      "source": [
        "num_classes = max(y_train) + 1\n",
        "y_train = np_utils.to_categorical(y_train, num_classes)\n",
        "y_test = np_utils.to_categorical(y_test, num_classes)"
      ],
      "execution_count": null,
      "outputs": []
    },
    {
      "cell_type": "markdown",
      "metadata": {
        "id": "SEQqb4ai-VDy"
      },
      "source": [
        "# A continuación definimos la arquitectura de los modelos"
      ]
    },
    {
      "cell_type": "markdown",
      "metadata": {
        "id": "wBxt9UAN84pk"
      },
      "source": [
        "# Nueva sección"
      ]
    },
    {
      "cell_type": "markdown",
      "metadata": {
        "id": "OaXPzcG485Gl"
      },
      "source": [
        "# Nueva sección"
      ]
    },
    {
      "cell_type": "markdown",
      "metadata": {
        "id": "eaouxy7gTLNA"
      },
      "source": [
        "**Posibilidad 1**. Modelo con códificación binaria previa sin necesidad de entrenamiento de una capa *embedding*. Se utiliza el modelo sequencial compuesto por una capa Dense de entrada, seguido de una capa dense con función de activación relu y una capa con dunción de activación sigmoide. Finalmente se usa una capa dense con un output igual al número posible de clases para el texto y una función de activación softmax para limitar el sobreajuste."
      ]
    },
    {
      "cell_type": "code",
      "metadata": {
        "colab": {
          "base_uri": "https://localhost:8080/"
        },
        "id": "oPhs9wJLTn7m",
        "outputId": "23c03dcc-5a62-4de3-909f-1287cbd15a15"
      },
      "source": [
        "model_1 = tf.keras.Sequential([\n",
        "  layers.Dense(64, input_shape=(max_words,), activation=\"relu\"),\n",
        "  layers.Dense(128, input_shape=(max_words,), activation=\"relu\"),\n",
        "  layers.Dense(64, activation='relu'),\n",
        "  layers.Dense(num_classes, activation='softmax')])\n",
        "\n",
        "model_1.summary()"
      ],
      "execution_count": null,
      "outputs": [
        {
          "output_type": "stream",
          "text": [
            "Model: \"sequential_4\"\n",
            "_________________________________________________________________\n",
            "Layer (type)                 Output Shape              Param #   \n",
            "=================================================================\n",
            "dense_11 (Dense)             (None, 64)                1280064   \n",
            "_________________________________________________________________\n",
            "dense_12 (Dense)             (None, 128)               8320      \n",
            "_________________________________________________________________\n",
            "dense_13 (Dense)             (None, 64)                8256      \n",
            "_________________________________________________________________\n",
            "dense_14 (Dense)             (None, 46)                2990      \n",
            "=================================================================\n",
            "Total params: 1,299,630\n",
            "Trainable params: 1,299,630\n",
            "Non-trainable params: 0\n",
            "_________________________________________________________________\n"
          ],
          "name": "stdout"
        }
      ]
    },
    {
      "cell_type": "code",
      "metadata": {
        "id": "EKIAwY_1X3gA"
      },
      "source": [
        "model_1.compile(loss='categorical_crossentropy',\n",
        "              optimizer='adam',\n",
        "              metrics='accuracy')"
      ],
      "execution_count": null,
      "outputs": []
    },
    {
      "cell_type": "code",
      "metadata": {
        "colab": {
          "base_uri": "https://localhost:8080/"
        },
        "id": "kxNeFe7IX4Xu",
        "outputId": "9e505c25-e2f7-4023-cba8-836235492a91"
      },
      "source": [
        "history_1 = model_1.fit(x_train_1, y_train, batch_size=32, epochs=10, validation_split=0.2, verbose=1)"
      ],
      "execution_count": null,
      "outputs": [
        {
          "output_type": "stream",
          "text": [
            "Epoch 1/10\n",
            "225/225 [==============================] - 3s 12ms/step - loss: 1.5930 - accuracy: 0.6391 - val_loss: 1.1049 - val_accuracy: 0.7551\n",
            "Epoch 2/10\n",
            "225/225 [==============================] - 2s 10ms/step - loss: 0.6834 - accuracy: 0.8406 - val_loss: 0.9772 - val_accuracy: 0.7780\n",
            "Epoch 3/10\n",
            "225/225 [==============================] - 2s 10ms/step - loss: 0.3344 - accuracy: 0.9247 - val_loss: 0.9974 - val_accuracy: 0.7852\n",
            "Epoch 4/10\n",
            "225/225 [==============================] - 2s 10ms/step - loss: 0.2071 - accuracy: 0.9525 - val_loss: 1.0635 - val_accuracy: 0.7813\n",
            "Epoch 5/10\n",
            "225/225 [==============================] - 2s 10ms/step - loss: 0.1591 - accuracy: 0.9571 - val_loss: 1.0764 - val_accuracy: 0.7919\n",
            "Epoch 6/10\n",
            "225/225 [==============================] - 2s 9ms/step - loss: 0.1270 - accuracy: 0.9609 - val_loss: 1.1835 - val_accuracy: 0.7752\n",
            "Epoch 7/10\n",
            "225/225 [==============================] - 2s 10ms/step - loss: 0.1224 - accuracy: 0.9616 - val_loss: 1.0890 - val_accuracy: 0.7969\n",
            "Epoch 8/10\n",
            "225/225 [==============================] - 2s 10ms/step - loss: 0.1076 - accuracy: 0.9621 - val_loss: 1.1264 - val_accuracy: 0.7991\n",
            "Epoch 9/10\n",
            "225/225 [==============================] - 2s 10ms/step - loss: 0.1015 - accuracy: 0.9605 - val_loss: 1.1454 - val_accuracy: 0.7908\n",
            "Epoch 10/10\n",
            "225/225 [==============================] - 2s 10ms/step - loss: 0.0942 - accuracy: 0.9602 - val_loss: 1.1797 - val_accuracy: 0.7896\n"
          ],
          "name": "stdout"
        }
      ]
    },
    {
      "cell_type": "code",
      "metadata": {
        "colab": {
          "base_uri": "https://localhost:8080/"
        },
        "id": "AxigXyyoeDJe",
        "outputId": "5452a80c-ea39-4479-9429-fccb95765837"
      },
      "source": [
        "loss,accuracy = model_1.evaluate(x_test_1, y_test, verbose=0)\n",
        "print(\"%s: %.2f%%\" % (model_1.metrics_names[0], loss*100))\n",
        "print(\"%s: %.2f%%\" % (model_1.metrics_names[1], accuracy*100))"
      ],
      "execution_count": null,
      "outputs": [
        {
          "output_type": "stream",
          "text": [
            "loss: 129.63%\n",
            "accuracy: 78.01%\n"
          ],
          "name": "stdout"
        }
      ]
    },
    {
      "cell_type": "code",
      "metadata": {
        "colab": {
          "base_uri": "https://localhost:8080/",
          "height": 460
        },
        "id": "DTNR1Fiellm7",
        "outputId": "961fb371-c417-4e1d-fa32-bef0cc04f380"
      },
      "source": [
        "plt.figure(figsize=(16, 8))\n",
        "plt.subplot(1, 2, 1)\n",
        "plot_graphs(history_1, 'accuracy')\n",
        "plt.ylim(None, 1)\n",
        "plt.subplot(1, 2, 2)\n",
        "plot_graphs(history_1, 'loss')\n",
        "plt.ylim(0, None)"
      ],
      "execution_count": null,
      "outputs": [
        {
          "output_type": "execute_result",
          "data": {
            "text/plain": [
              "(0.0, 1.6679139751940966)"
            ]
          },
          "metadata": {
            "tags": []
          },
          "execution_count": 52
        },
        {
          "output_type": "display_data",
          "data": {
            "image/png": "[encoded data removed]",
            "text/plain": [
              "<Figure size 1152x576 with 2 Axes>"
            ]
          },
          "metadata": {
            "tags": [],
            "needs_background": "light"
          }
        }
      ]
    },
    {
      "cell_type": "markdown",
      "metadata": {
        "id": "S2kZOFIATc8Y"
      },
      "source": [
        "**Posibilidad 2**. Modelo con entrnamiento de un *embedding*. Primera capa de embedding para la incrustación de  palabras como vectores, seguido de una capa bidireccional LSTM, seguido que dos capas Dense que reducen el vector a una clase de las posibles para el texto."
      ]
    },
    {
      "cell_type": "code",
      "metadata": {
        "colab": {
          "base_uri": "https://localhost:8080/"
        },
        "id": "iYpu5KuQSbBP",
        "outputId": "5bb7abba-f4cd-441f-ab5d-1bc58b56ca1f"
      },
      "source": [
        " model_2 = tf.keras.Sequential([\n",
        "  layers.Embedding(35247, 128, input_length=max_sequence),\n",
        "  layers.Bidirectional(layers.LSTM(64)),\n",
        "  layers.Dense(64, activation='relu'),\n",
        "  layers.Dense(num_classes, activation='softmax')])\n",
        "\n",
        " model_2.summary()"
      ],
      "execution_count": null,
      "outputs": [
        {
          "output_type": "stream",
          "text": [
            "Model: \"sequential_6\"\n",
            "_________________________________________________________________\n",
            "Layer (type)                 Output Shape              Param #   \n",
            "=================================================================\n",
            "embedding_5 (Embedding)      (None, 250, 128)          4511616   \n",
            "_________________________________________________________________\n",
            "bidirectional_6 (Bidirection (None, 128)               98816     \n",
            "_________________________________________________________________\n",
            "dense_17 (Dense)             (None, 64)                8256      \n",
            "_________________________________________________________________\n",
            "dense_18 (Dense)             (None, 46)                2990      \n",
            "=================================================================\n",
            "Total params: 4,621,678\n",
            "Trainable params: 4,621,678\n",
            "Non-trainable params: 0\n",
            "_________________________________________________________________\n"
          ],
          "name": "stdout"
        }
      ]
    },
    {
      "cell_type": "code",
      "metadata": {
        "id": "fHf4QDmUtv8u"
      },
      "source": [
        "model_2.compile(loss='categorical_crossentropy',\n",
        "              optimizer='adam',\n",
        "              metrics='accuracy')"
      ],
      "execution_count": null,
      "outputs": []
    },
    {
      "cell_type": "code",
      "metadata": {
        "colab": {
          "base_uri": "https://localhost:8080/"
        },
        "id": "DWOrbUdQt3Xq",
        "outputId": "d841fb63-b6a3-4bd7-d20d-60f572dc0435"
      },
      "source": [
        "history_2 = model_2.fit(x_train_2, y_train, batch_size=32, epochs=10, validation_split=0.2, verbose=1)"
      ],
      "execution_count": null,
      "outputs": [
        {
          "output_type": "stream",
          "text": [
            "Epoch 1/10\n",
            "225/225 [==============================] - 127s 336ms/step - loss: 1.9333 - accuracy: 0.5351 - val_loss: 1.5536 - val_accuracy: 0.6388\n",
            "Epoch 2/10\n",
            "225/225 [==============================] - 75s 334ms/step - loss: 1.3564 - accuracy: 0.6619 - val_loss: 1.2871 - val_accuracy: 0.6856\n",
            "Epoch 3/10\n",
            "225/225 [==============================] - 74s 330ms/step - loss: 1.0020 - accuracy: 0.7542 - val_loss: 1.1723 - val_accuracy: 0.7090\n",
            "Epoch 4/10\n",
            "225/225 [==============================] - 74s 330ms/step - loss: 0.7495 - accuracy: 0.8132 - val_loss: 1.2404 - val_accuracy: 0.7095\n",
            "Epoch 5/10\n",
            "225/225 [==============================] - 74s 330ms/step - loss: 0.5942 - accuracy: 0.8507 - val_loss: 1.2361 - val_accuracy: 0.7229\n",
            "Epoch 6/10\n",
            "225/225 [==============================] - 74s 329ms/step - loss: 0.4696 - accuracy: 0.8823 - val_loss: 1.2736 - val_accuracy: 0.7379\n",
            "Epoch 7/10\n",
            "225/225 [==============================] - 74s 331ms/step - loss: 0.3761 - accuracy: 0.9072 - val_loss: 1.3176 - val_accuracy: 0.7457\n",
            "Epoch 8/10\n",
            "225/225 [==============================] - 75s 332ms/step - loss: 0.3079 - accuracy: 0.9282 - val_loss: 1.3550 - val_accuracy: 0.7368\n",
            "Epoch 9/10\n",
            "225/225 [==============================] - 75s 331ms/step - loss: 0.2563 - accuracy: 0.9379 - val_loss: 1.4674 - val_accuracy: 0.7290\n",
            "Epoch 10/10\n",
            "225/225 [==============================] - 74s 330ms/step - loss: 0.2201 - accuracy: 0.9468 - val_loss: 1.4017 - val_accuracy: 0.7435\n"
          ],
          "name": "stdout"
        }
      ]
    },
    {
      "cell_type": "code",
      "metadata": {
        "colab": {
          "base_uri": "https://localhost:8080/"
        },
        "id": "HAknYAQEzeCm",
        "outputId": "f097e0bd-349b-4ddf-ccb9-d144bb8b2a15"
      },
      "source": [
        "loss,accuracy = model_2.evaluate(x_test_2, y_test, verbose=1)\n",
        "print(\"%s: %.2f%%\" % (model_2.metrics_names[0], loss*100))\n",
        "print(\"%s: %.2f%%\" % (model_2.metrics_names[1], accuracy*100))"
      ],
      "execution_count": null,
      "outputs": [
        {
          "output_type": "stream",
          "text": [
            "71/71 [==============================] - 4s 54ms/step - loss: 1.3873 - accuracy: 0.7391\n",
            "loss: 138.73%\n",
            "accuracy: 73.91%\n"
          ],
          "name": "stdout"
        }
      ]
    },
    {
      "cell_type": "code",
      "metadata": {
        "colab": {
          "base_uri": "https://localhost:8080/",
          "height": 463
        },
        "id": "KcTgkFlqGU8D",
        "outputId": "f170aa83-9792-4218-dca8-547edd4c9f54"
      },
      "source": [
        "plt.figure(figsize=(16, 8))\n",
        "plt.subplot(1, 2, 1)\n",
        "plot_graphs(history_2, 'accuracy')\n",
        "plt.ylim(None, 1)\n",
        "plt.subplot(1, 2, 2)\n",
        "plot_graphs(history_2, 'loss')\n",
        "plt.ylim(0, None)"
      ],
      "execution_count": null,
      "outputs": [
        {
          "output_type": "execute_result",
          "data": {
            "text/plain": [
              "(0.0, 2.0189707800745964)"
            ]
          },
          "metadata": {
            "tags": []
          },
          "execution_count": 46
        },
        {
          "output_type": "display_data",
          "data": {
            "image/png": "[encoded data removed]",
            "text/plain": [
              "<Figure size 1152x576 with 2 Axes>"
            ]
          },
          "metadata": {
            "tags": [],
            "needs_background": "light"
          }
        }
      ]
    },
    {
      "cell_type": "markdown",
      "metadata": {
        "id": "Lk2DVOG6OvCw"
      },
      "source": [
        "Posibilidad 3. Modelo con entrenamiento de un embedding. Primera capa de embedding para la incrustación de palabras como vectores, seguido de dos capas bidireccionales LSTM, seguido que dos capas Dense que reducen el vector a una clase de las posibles para el texto."
      ]
    },
    {
      "cell_type": "code",
      "metadata": {
        "colab": {
          "base_uri": "https://localhost:8080/"
        },
        "id": "im5Bq_ErJN1H",
        "outputId": "0dae79d3-93c8-4575-ebad-a4dd0dbbffa0"
      },
      "source": [
        " model_3 = tf.keras.Sequential([\n",
        "  layers.Embedding(35247, 128, input_length=max_sequence),\n",
        "  layers.Bidirectional(layers.LSTM(64, return_sequences=True)),\n",
        "  layers.Bidirectional(tf.keras.layers.LSTM(32)),\n",
        "  layers.Dense(64, activation='relu'),\n",
        "  layers.Dense(num_classes, activation='softmax')])\n",
        "\n",
        " model_3.summary()"
      ],
      "execution_count": null,
      "outputs": [
        {
          "output_type": "stream",
          "text": [
            "Model: \"sequential_8\"\n",
            "_________________________________________________________________\n",
            "Layer (type)                 Output Shape              Param #   \n",
            "=================================================================\n",
            "embedding_7 (Embedding)      (None, 250, 128)          4511616   \n",
            "_________________________________________________________________\n",
            "bidirectional_9 (Bidirection (None, 250, 128)          98816     \n",
            "_________________________________________________________________\n",
            "bidirectional_10 (Bidirectio (None, 64)                41216     \n",
            "_________________________________________________________________\n",
            "dense_21 (Dense)             (None, 64)                4160      \n",
            "_________________________________________________________________\n",
            "dense_22 (Dense)             (None, 46)                2990      \n",
            "=================================================================\n",
            "Total params: 4,658,798\n",
            "Trainable params: 4,658,798\n",
            "Non-trainable params: 0\n",
            "_________________________________________________________________\n"
          ],
          "name": "stdout"
        }
      ]
    },
    {
      "cell_type": "code",
      "metadata": {
        "id": "do5Yg8N7JecP"
      },
      "source": [
        "model_3.compile(loss='categorical_crossentropy',\n",
        "              optimizer='adam',\n",
        "              metrics='accuracy')"
      ],
      "execution_count": null,
      "outputs": []
    },
    {
      "cell_type": "code",
      "metadata": {
        "colab": {
          "base_uri": "https://localhost:8080/"
        },
        "id": "wrCz9aD9JlEj",
        "outputId": "fda2a690-9044-4ddb-d159-9927946951ab"
      },
      "source": [
        "history_3 = model_3.fit(x_train_2, y_train, batch_size=32, epochs=10, validation_split=0.2, verbose=1)"
      ],
      "execution_count": null,
      "outputs": [
        {
          "output_type": "stream",
          "text": [
            "Epoch 1/10\n",
            "225/225 [==============================] - 123s 522ms/step - loss: 2.0717 - accuracy: 0.5086 - val_loss: 1.6315 - val_accuracy: 0.6004\n",
            "Epoch 2/10\n",
            "225/225 [==============================] - 118s 523ms/step - loss: 1.5118 - accuracy: 0.6287 - val_loss: 1.4473 - val_accuracy: 0.6361\n",
            "Epoch 3/10\n",
            "225/225 [==============================] - 118s 525ms/step - loss: 1.2455 - accuracy: 0.6843 - val_loss: 1.2997 - val_accuracy: 0.6761\n",
            "Epoch 4/10\n",
            "225/225 [==============================] - 118s 525ms/step - loss: 1.0143 - accuracy: 0.7415 - val_loss: 1.2451 - val_accuracy: 0.6900\n",
            "Epoch 5/10\n",
            "225/225 [==============================] - 118s 524ms/step - loss: 0.8181 - accuracy: 0.7942 - val_loss: 1.2692 - val_accuracy: 0.6912\n",
            "Epoch 6/10\n",
            "225/225 [==============================] - 118s 524ms/step - loss: 0.6752 - accuracy: 0.8285 - val_loss: 1.2481 - val_accuracy: 0.7129\n",
            "Epoch 7/10\n",
            "225/225 [==============================] - 117s 521ms/step - loss: 0.5711 - accuracy: 0.8514 - val_loss: 1.3046 - val_accuracy: 0.7245\n",
            "Epoch 8/10\n",
            "225/225 [==============================] - 117s 522ms/step - loss: 0.4738 - accuracy: 0.8781 - val_loss: 1.3177 - val_accuracy: 0.7257\n",
            "Epoch 9/10\n",
            "225/225 [==============================] - 117s 522ms/step - loss: 0.4035 - accuracy: 0.8965 - val_loss: 1.4165 - val_accuracy: 0.7090\n",
            "Epoch 10/10\n",
            "225/225 [==============================] - 118s 525ms/step - loss: 0.3416 - accuracy: 0.9133 - val_loss: 1.4280 - val_accuracy: 0.7334\n"
          ],
          "name": "stdout"
        }
      ]
    },
    {
      "cell_type": "code",
      "metadata": {
        "colab": {
          "base_uri": "https://localhost:8080/"
        },
        "id": "6Z1KMH0QOSDA",
        "outputId": "56a33fd0-39cd-465c-c23c-ed33c9a4b5ad"
      },
      "source": [
        "loss,accuracy = model_3.evaluate(x_test_2, y_test, verbose=1)\n",
        "print(\"%s: %.2f%%\" % (model_3.metrics_names[0], loss*100))\n",
        "print(\"%s: %.2f%%\" % (model_3.metrics_names[1], accuracy*100))"
      ],
      "execution_count": null,
      "outputs": [
        {
          "output_type": "stream",
          "text": [
            "71/71 [==============================] - 6s 90ms/step - loss: 1.4714 - accuracy: 0.7266\n",
            "loss: 147.14%\n",
            "accuracy: 72.66%\n"
          ],
          "name": "stdout"
        }
      ]
    },
    {
      "cell_type": "code",
      "metadata": {
        "colab": {
          "base_uri": "https://localhost:8080/",
          "height": 518
        },
        "id": "eBxSeNDFOhcW",
        "outputId": "e0b2c70d-42e2-48f8-af2e-73cdae7396b5"
      },
      "source": [
        "plt.figure(figsize=(16, 8))\n",
        "plt.subplot(1, 2, 1)\n",
        "plot_graphs(history_3, 'accuracy')\n",
        "plt.ylim(None, 1)\n",
        "plt.subplot(1, 2, 2)\n",
        "plot_graphs(history_3, 'loss')\n",
        "plt.ylim(0, None)"
      ],
      "execution_count": null,
      "outputs": [
        {
          "output_type": "execute_result",
          "data": {
            "text/plain": [
              "(0.0, 2.1582045793533324)"
            ]
          },
          "metadata": {
            "tags": []
          },
          "execution_count": 63
        },
        {
          "output_type": "display_data",
          "data": {
            "image/png": "[encoded data removed]",
            "text/plain": [
              "<Figure size 1152x576 with 2 Axes>"
            ]
          },
          "metadata": {
            "tags": [],
            "needs_background": "light"
          }
        }
      ]
    },
    {
      "cell_type": "markdown",
      "metadata": {
        "id": "VwfTYqf4Q_AH"
      },
      "source": [
        "Posibilidad 4. Modelo con entrenamiento con word embedding y una capa encoder. Modelo anterior con un encoder antes del embedding de palabras."
      ]
    },
    {
      "cell_type": "code",
      "metadata": {
        "id": "rOnt-Xy-Rcxb"
      },
      "source": [
        "model_4 = tf.keras.Sequential([\n",
        "  #  añadir encoder\n",
        "  layers.Embedding(35247, 128, input_length=max_sequence),\n",
        "  layers.Bidirectional(layers.LSTM(64, return_sequences=True)),\n",
        "  layers.Bidirectional(tf.keras.layers.LSTM(32)),\n",
        "  layers.Dense(64, activation='relu'),\n",
        "  layers.Dense(num_classes, activation='softmax')])\n",
        "\n",
        " model_4.summary()"
      ],
      "execution_count": null,
      "outputs": []
    },
    {
      "cell_type": "code",
      "metadata": {
        "id": "McPtmCQ1R3Wa"
      },
      "source": [
        "model_4.compile(loss='categorical_crossentropy',\n",
        "              optimizer='adam',\n",
        "              metrics='accuracy')"
      ],
      "execution_count": null,
      "outputs": []
    },
    {
      "cell_type": "code",
      "metadata": {
        "id": "qkODBNm9RwrG"
      },
      "source": [
        "history_4 = model_4.fit(x_train_2, y_train, batch_size=32, epochs=10, validation_split=0.2, verbose=1)"
      ],
      "execution_count": null,
      "outputs": []
    },
    {
      "cell_type": "code",
      "metadata": {
        "id": "5-AqyGsXRtPq"
      },
      "source": [
        "loss,accuracy = model_4.evaluate(x_test_2, y_test, verbose=1)\n",
        "print(\"%s: %.2f%%\" % (model_3.metrics_names[0], loss*100))\n",
        "print(\"%s: %.2f%%\" % (model_3.metrics_names[1], accuracy*100))"
      ],
      "execution_count": null,
      "outputs": []
    },
    {
      "cell_type": "code",
      "metadata": {
        "id": "yogX-hj4Rqlq"
      },
      "source": [
        "plt.figure(figsize=(16, 8))\n",
        "plt.subplot(1, 2, 1)\n",
        "plot_graphs(history_3, 'accuracy')\n",
        "plt.ylim(None, 1)\n",
        "plt.subplot(1, 2, 2)\n",
        "plot_graphs(history_3, 'loss')\n",
        "plt.ylim(0, None)"
      ],
      "execution_count": null,
      "outputs": []
    }
  ]
}